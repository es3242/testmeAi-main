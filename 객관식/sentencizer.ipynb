{
 "cells": [
  {
   "cell_type": "markdown",
   "metadata": {},
   "source": [
    "<h2>문장들이 담겨있는 txt파일을 가져옴"
   ]
  },
  {
   "cell_type": "code",
   "execution_count": null,
   "metadata": {},
   "outputs": [],
   "source": [
    "\n",
    "pdftxt = mining(\"./test3.pdf\",0).copy() # pdf->txt한 결과를 페이지 단위로 pdftxt배열에 담음"
   ]
  },
  {
   "cell_type": "markdown",
   "metadata": {},
   "source": [
    "<h2>불용어 처리 정의"
   ]
  },
  {
   "cell_type": "code",
   "execution_count": null,
   "metadata": {},
   "outputs": [],
   "source": [
    "# -*- coding: utf-8 -*-\n",
    "import re\n",
    "from pdftotextByPage import mining\n",
    "\n",
    "exceptUnless = re.compile('[^ a-z|A-Z|0-9|ㄱ-ㅎ|가-힣|\\{\\}\\[\\]\\/?.,;:|\\)*~`!^\\-–_+<>@\\#$%&\\\\\\=\\(\\'\\\"|\\n]+') # 한글과 띄어쓰기 숫자 영문 특수기호를 제외한 모든 글자를 남기는 불용어 처리할 것임\n"
   ]
  },
  {
   "cell_type": "code",
   "execution_count": 29,
   "metadata": {},
   "outputs": [],
   "source": [
    "cover = [] #표지에 해당하는 문장들을 담음 (반복되는 표지 문장 삭제하기 위해)\n",
    "cover.append(\"Chapter 2:  Operating-System Structures (구조)Operating System Concepts – 10th EditionSilberschatz, Galvin and Gagne ©2018\fChapter 2:  Operating-System Structures\")\n",
    "cover.append(\"Operating System Concepts – 10th Edition\")\n",
    "cover.append(\"Silberschatz, Galvin and Gagne ©2018\")"
   ]
  },
  {
   "cell_type": "markdown",
   "metadata": {},
   "source": [
    "<h2>불용어 처리"
   ]
  },
  {
   "cell_type": "code",
   "execution_count": 30,
   "metadata": {},
   "outputs": [],
   "source": [
    "pages = len(pdftxt) #pdftxt배열의 길이를 pages에 담음, 페이지 단위로 담았으므로 길이는 페이지 수와 같음.\n",
    "\n",
    "#페이지마다 표지 문장들 있으면 삭제하는 반복문임\n",
    "for i in range (pages):\n",
    "    line = str(pdftxt[i])# 한 페이지 씩 읽어 옴\n",
    "    if not line: break # 파일 끝 까지 반복\n",
    "    for j in range(len(cover)):\n",
    "        pdftxt[i] = pdftxt[i].replace(cover[j], \" \") #표지에 해당하는 문장들 삭제\n"
   ]
  },
  {
   "cell_type": "code",
   "execution_count": 31,
   "metadata": {},
   "outputs": [
    {
     "name": "stdout",
     "output_type": "stream",
     "text": [
      "[['\\x0c'], ['❖', '❖', '❖', '❖', '❖', '❖', '❖', '❖', '❖', '❖', '\\x0c'], ['❖', '❖', '❖', '❖', '❖', '❖', '\\x0c'], ['❖', '❖', '\\x0c'], ['❖', '\\uf034', '\\uf034', '\\uf034', '\\x0c'], ['❖', '\\uf034', '\\uf034', '\\x0c'], ['❖', '\\uf034', '\\uf034', '\\uf034', '\\uf034', '\\uf034', '\\uf034', '\\uf034', '\\x0c'], ['❖', '\\uf034', '\\uf034', '\\uf034', '\\uf034', '\\x0c'], ['❖', '\\uf034', '\\uf034', '\\uf034', '\\x0c'], ['❖', '\\uf034', '\\uf034', '\\uf034', '\\x0c'], ['❖', '\\x0c'], ['❖', '\\uf034', '\\uf034', '\\x0c'], ['\\x0c'], ['❖', '❖', '\\x0c'], ['❖', '\\x0c'], ['\\x0c'], ['❖', '❖', '❖', '\\x0c'], ['❖', '→', '\\x0c'], ['❖', '❖', '\\x0c'], ['\\x0c'], ['❖', '❖', '\\x0c'], ['❖', '\\uf034', '\\x0c'], ['\\x0c'], ['❖', '❖', '\\uf034', '\\x0c'], ['❖', '\\uf034', '\\uf034', '\\x0c'], ['❖', '…', '\\uf034', '\\x0c'], ['❖', '❖', '\\x0c'], ['❖', '❖', '\\x0c'], ['❖', '❖', '\\x0c'], ['❖', '\\uf034', '\\uf034', '\\x0c'], ['\\x0c'], ['❖', '→', '“', '”', '❖', '\\x0c'], ['❖', '❖', '❖', '❖', '❖', '❖', '\\x0c'], ['❖', '❖', '❖', '❖', '❖', '\\uf0df', '\\x0c'], ['❖', '❖', '\\x0c'], ['❖', '\\uf034', '\\x0c'], ['❖', '❖', '\\uf034', '\\x0c'], ['❖', '❖', '❖', '❖', '\\x0c'], ['❖', '\\uf034', '\\uf034', '\\x0c'], ['❖', '❖', '❖', '❖', '❖', '\\x0c'], ['❖', '❖', '❖', '❖', '❖', '\\x0c'], ['❖', '❖', '❖', '❖', '\\x0c'], ['❖', '❖', '❖', '❖', '\\x0c'], ['✓', '❖', '•', '▪', '•', '\\x0c'], ['❖', '\\uf034', '\\uf034', '\\x0c'], ['\\x0c'], ['❖', '❖', '❖', '\\x0c'], ['❖', '❖', '❖', '❖', '❖', '\\x0c'], ['\\x0c'], ['❖', '❖', '\\x0c'], ['\\x0c'], ['❖', '❖', '❖', '\\x0c'], ['❖', '\\x0c'], ['❖', '\\uf034', '\\x0c'], ['❖', '❖', '❖', '❖', '\\x0c'], ['’', '“', '”', '\\x0c'], ['❖', '❖', '❖', '“', '”', '\\x0c'], ['\\x0c'], ['\\x0c'], ['\\x0c'], ['\\x0c'], ['❖', '❖', '\\x0c'], ['❖', '❖', '❖', '❖', '\\x0c'], ['\\x0c']]\n"
     ]
    }
   ],
   "source": [
    "\n",
    "result = []\n",
    "stopwordsAll = []\n",
    "\n",
    "for i in range (pages):\n",
    "    line = str(pdftxt[i])# 한 페이지 씩 읽어 옴\n",
    "    if not line: break # 파일 끝 까지 반복\n",
    "    result.append(exceptUnless.sub(' ', line)) # 한글과 띄어쓰기를 제외한 모든 부분을 제거\n",
    "    stopwordsAll.append(exceptUnless.findall(line)) # 정규식에 일치되는 부분(불용어)을 리스트 형태로 저장\n",
    "    \n",
    "print(stopwordsAll)"
   ]
  },
  {
   "cell_type": "markdown",
   "metadata": {},
   "source": [
    "<h2>불용어 기준으로 문장 나누기"
   ]
  },
  {
   "cell_type": "code",
   "execution_count": 32,
   "metadata": {},
   "outputs": [
    {
     "data": {
      "text/plain": [
       "['\\x0c',\n",
       " '❖',\n",
       " '\\uf034',\n",
       " '→',\n",
       " '…',\n",
       " '“',\n",
       " '”',\n",
       " '\\uf0df',\n",
       " '✓',\n",
       " '•',\n",
       " '▪',\n",
       " '’',\n",
       " 'l ',\n",
       " '1 ']"
      ]
     },
     "execution_count": 32,
     "metadata": {},
     "output_type": "execute_result"
    }
   ],
   "source": [
    "#중복 되는 불용어 제외 하기 위함\n",
    "\n",
    "stopwords = []\n",
    "for i in range(len(stopwordsAll)):\n",
    "    for value in stopwordsAll[i]:\n",
    "        if value not in stopwords:\n",
    "            stopwords.append(value)\n",
    "#불용어들을 stopwords리스트에 중복없이 담음. 문장 구분자로 쓰기 위함임\n",
    "\n",
    "stopwords.append('l ')\n",
    "stopwords.append('1 ')\n",
    " #구분자로 'l ','1 '를 추가. 바를 이와 같이 인식하는 경우 때문\n",
    "\n",
    "stopwords"
   ]
  },
  {
   "cell_type": "code",
   "execution_count": 33,
   "metadata": {},
   "outputs": [],
   "source": [
    "for i in range(len(pdftxt)):\n",
    "    pdftxt[i] = pdftxt[i].replace(\"\\n\", \"\") #페이지에 있던 줄바꿈 문자들 제거"
   ]
  },
  {
   "cell_type": "code",
   "execution_count": 34,
   "metadata": {},
   "outputs": [],
   "source": [
    "for i in range(len(pdftxt)):\n",
    "    for j in range(len(stopwords)):\n",
    "        pdftxt[i] = pdftxt[i].replace(stopwords[j], \"\\n\") #불용어(구분자) 기준으로 줄바꿈 문자들 생성. 문장을 나누는 부분"
   ]
  },
  {
   "cell_type": "markdown",
   "metadata": {},
   "source": [
    "<h2>결과 txt 출력"
   ]
  },
  {
   "cell_type": "code",
   "execution_count": 35,
   "metadata": {},
   "outputs": [],
   "source": [
    "f = open(\"txtoutput4.txt\",\"w\")\n",
    "for i in range(pages):\n",
    "     f.write(pdftxt[i])\n",
    "f.close()"
   ]
  }
 ],
 "metadata": {
  "kernelspec": {
   "display_name": "Python 3.9.15 ('newtestme')",
   "language": "python",
   "name": "python3"
  },
  "language_info": {
   "codemirror_mode": {
    "name": "ipython",
    "version": 3
   },
   "file_extension": ".py",
   "mimetype": "text/x-python",
   "name": "python",
   "nbconvert_exporter": "python",
   "pygments_lexer": "ipython3",
   "version": "3.9.15"
  },
  "orig_nbformat": 4,
  "vscode": {
   "interpreter": {
    "hash": "1b6a4e9e8ac2c57cb5e1200575203b1c84e3f5628d1153d287812105b7b257e3"
   }
  }
 },
 "nbformat": 4,
 "nbformat_minor": 2
}
